{
 "cells": [
  {
   "cell_type": "markdown",
   "id": "0ba2ffb1",
   "metadata": {},
   "source": [
    "### Importing libraries"
   ]
  },
  {
   "cell_type": "code",
   "execution_count": 22,
   "id": "87bf2471",
   "metadata": {},
   "outputs": [],
   "source": [
    "import pandas as pd\n",
    "import json\n",
    "from itertools import islice"
   ]
  },
  {
   "cell_type": "markdown",
   "id": "6ccf5903",
   "metadata": {},
   "source": [
    "### Importing datasets"
   ]
  },
  {
   "cell_type": "code",
   "execution_count": 23,
   "id": "1a618f31",
   "metadata": {},
   "outputs": [],
   "source": [
    "df = pd.read_csv(\"districts.csv\")"
   ]
  },
  {
   "cell_type": "markdown",
   "id": "3678a525",
   "metadata": {},
   "source": [
    "###### dropping irrelevant columns"
   ]
  },
  {
   "cell_type": "code",
   "execution_count": 24,
   "id": "f150c311",
   "metadata": {},
   "outputs": [],
   "source": [
    "df.drop(columns=['Recovered','Other','Tested','Deceased'], inplace = True)"
   ]
  },
  {
   "cell_type": "code",
   "execution_count": 25,
   "id": "cadad0a9",
   "metadata": {},
   "outputs": [],
   "source": [
    "f = open(\"neighbor-districts-modified.json\")\n",
    "filtered_district = json.load(f)"
   ]
  },
  {
   "cell_type": "markdown",
   "id": "e702118a",
   "metadata": {},
   "source": [
    "###### f1 contains a file that maps state name to its (It will help to check whether a particular district is present in neighbor district modified databse or not)"
   ]
  },
  {
   "cell_type": "code",
   "execution_count": 26,
   "id": "e7fb05c9",
   "metadata": {},
   "outputs": [],
   "source": [
    "f1 = open(\"state_code_mapping.json\")\n",
    "state_code_mapping = json.load(f1)"
   ]
  },
  {
   "cell_type": "markdown",
   "id": "660b1966",
   "metadata": {},
   "source": [
    "### The following things are done here:\n",
    "    1. removing districts which are not present in district dataset we build in question 1\n",
    "    2. confirmed cases in dataset are cumulative, so converting cummulative values to delta values"
   ]
  },
  {
   "cell_type": "code",
   "execution_count": 27,
   "id": "b0c29371",
   "metadata": {},
   "outputs": [],
   "source": [
    "for key, values in df.groupby(['State', 'District']):\n",
    "    if key[1]!=\"Unknown\":\n",
    "        district_name = state_code_mapping[key[0]]+\"_\"+key[1]\n",
    "    else:\n",
    "        district_name = state_code_mapping[key[0]] + \"_\" + key[1]\n",
    "    \n",
    "    if district_name not in filtered_district:\n",
    "        df.drop(values.index, inplace=True)\n",
    "    else:\n",
    "        first_value = df.at[values.index[0],'Confirmed']\n",
    "#         diff() function convert cumulative values to delta values\n",
    "        df.loc[values.index, 'Confirmed'] = df.loc[values.index, 'Confirmed'].diff()\n",
    "        df.at[values.index[0],'Confirmed'] = first_value\n",
    "        df.loc[values.index, 'District'] = district_name"
   ]
  },
  {
   "cell_type": "markdown",
   "id": "7d2b710c",
   "metadata": {},
   "source": [
    "###### There are some wrong entries in dataset due to which we get negative test cases. Replacing negative values by nearest positive value"
   ]
  },
  {
   "cell_type": "code",
   "execution_count": 28,
   "id": "2c096922",
   "metadata": {},
   "outputs": [
    {
     "data": {
      "text/html": [
       "<div>\n",
       "<style scoped>\n",
       "    .dataframe tbody tr th:only-of-type {\n",
       "        vertical-align: middle;\n",
       "    }\n",
       "\n",
       "    .dataframe tbody tr th {\n",
       "        vertical-align: top;\n",
       "    }\n",
       "\n",
       "    .dataframe thead th {\n",
       "        text-align: right;\n",
       "    }\n",
       "</style>\n",
       "<table border=\"1\" class=\"dataframe\">\n",
       "  <thead>\n",
       "    <tr style=\"text-align: right;\">\n",
       "      <th></th>\n",
       "      <th>Date</th>\n",
       "      <th>State</th>\n",
       "      <th>District</th>\n",
       "      <th>Confirmed</th>\n",
       "    </tr>\n",
       "  </thead>\n",
       "  <tbody>\n",
       "    <tr>\n",
       "      <th>1048</th>\n",
       "      <td>2020-04-28</td>\n",
       "      <td>Madhya Pradesh</td>\n",
       "      <td>MP_Dewas</td>\n",
       "      <td>-1.0</td>\n",
       "    </tr>\n",
       "    <tr>\n",
       "      <th>2182</th>\n",
       "      <td>2020-05-01</td>\n",
       "      <td>Gujarat</td>\n",
       "      <td>GJ_Bharuch</td>\n",
       "      <td>-4.0</td>\n",
       "    </tr>\n",
       "    <tr>\n",
       "      <th>3433</th>\n",
       "      <td>2020-05-03</td>\n",
       "      <td>Uttar Pradesh</td>\n",
       "      <td>UP_Sant Kabir Nagar</td>\n",
       "      <td>-2.0</td>\n",
       "    </tr>\n",
       "    <tr>\n",
       "      <th>3651</th>\n",
       "      <td>2020-05-04</td>\n",
       "      <td>Maharashtra</td>\n",
       "      <td>MH_Ahmednagar</td>\n",
       "      <td>-1.0</td>\n",
       "    </tr>\n",
       "    <tr>\n",
       "      <th>3652</th>\n",
       "      <td>2020-05-04</td>\n",
       "      <td>Maharashtra</td>\n",
       "      <td>MH_Akola</td>\n",
       "      <td>-7.0</td>\n",
       "    </tr>\n",
       "    <tr>\n",
       "      <th>...</th>\n",
       "      <td>...</td>\n",
       "      <td>...</td>\n",
       "      <td>...</td>\n",
       "      <td>...</td>\n",
       "    </tr>\n",
       "    <tr>\n",
       "      <th>320323</th>\n",
       "      <td>2021-09-03</td>\n",
       "      <td>Uttar Pradesh</td>\n",
       "      <td>UP_Ghaziabad</td>\n",
       "      <td>-1.0</td>\n",
       "    </tr>\n",
       "    <tr>\n",
       "      <th>320364</th>\n",
       "      <td>2021-09-03</td>\n",
       "      <td>Uttar Pradesh</td>\n",
       "      <td>UP_Sitapur</td>\n",
       "      <td>-1.0</td>\n",
       "    </tr>\n",
       "    <tr>\n",
       "      <th>321649</th>\n",
       "      <td>2021-09-05</td>\n",
       "      <td>Uttar Pradesh</td>\n",
       "      <td>UP_Jhansi</td>\n",
       "      <td>-1.0</td>\n",
       "    </tr>\n",
       "    <tr>\n",
       "      <th>321651</th>\n",
       "      <td>2021-09-05</td>\n",
       "      <td>Uttar Pradesh</td>\n",
       "      <td>UP_Kanpur Dehat</td>\n",
       "      <td>-1.0</td>\n",
       "    </tr>\n",
       "    <tr>\n",
       "      <th>322827</th>\n",
       "      <td>2021-09-07</td>\n",
       "      <td>Punjab</td>\n",
       "      <td>PB_Pathankot</td>\n",
       "      <td>-1.0</td>\n",
       "    </tr>\n",
       "  </tbody>\n",
       "</table>\n",
       "<p>1029 rows × 4 columns</p>\n",
       "</div>"
      ],
      "text/plain": [
       "              Date           State             District  Confirmed\n",
       "1048    2020-04-28  Madhya Pradesh             MP_Dewas       -1.0\n",
       "2182    2020-05-01         Gujarat           GJ_Bharuch       -4.0\n",
       "3433    2020-05-03   Uttar Pradesh  UP_Sant Kabir Nagar       -2.0\n",
       "3651    2020-05-04     Maharashtra        MH_Ahmednagar       -1.0\n",
       "3652    2020-05-04     Maharashtra             MH_Akola       -7.0\n",
       "...            ...             ...                  ...        ...\n",
       "320323  2021-09-03   Uttar Pradesh         UP_Ghaziabad       -1.0\n",
       "320364  2021-09-03   Uttar Pradesh           UP_Sitapur       -1.0\n",
       "321649  2021-09-05   Uttar Pradesh            UP_Jhansi       -1.0\n",
       "321651  2021-09-05   Uttar Pradesh      UP_Kanpur Dehat       -1.0\n",
       "322827  2021-09-07          Punjab         PB_Pathankot       -1.0\n",
       "\n",
       "[1029 rows x 4 columns]"
      ]
     },
     "execution_count": 28,
     "metadata": {},
     "output_type": "execute_result"
    }
   ],
   "source": [
    "df[df['Confirmed']<0]"
   ]
  },
  {
   "cell_type": "code",
   "execution_count": 29,
   "id": "ef767b42",
   "metadata": {},
   "outputs": [],
   "source": [
    "# ffill() function fill the negative entries with neares positive entry before it\n",
    "df['Confirmed'] = df['Confirmed'].mask(df['Confirmed']<0).ffill().fillna(0).convert_dtypes()"
   ]
  },
  {
   "cell_type": "markdown",
   "id": "3b6dcdcc",
   "metadata": {},
   "source": [
    "###### taking data from 15 march 2020 to 14 august 2021\n",
    "###### since entries from 15 march to 25 march, 2020 are not available, adding them by considering no of cases 0 per day"
   ]
  },
  {
   "cell_type": "code",
   "execution_count": 30,
   "id": "facc62c4",
   "metadata": {},
   "outputs": [],
   "source": [
    "df['Date'] = pd.to_datetime(df['Date'],format='%Y-%m-%d')"
   ]
  },
  {
   "cell_type": "code",
   "execution_count": 31,
   "id": "cd8b2d77",
   "metadata": {},
   "outputs": [],
   "source": [
    "# dropping dates after 14 august\n",
    "df.drop(df[df['Date']>'2021-08-14'].index, inplace=True)"
   ]
  },
  {
   "cell_type": "code",
   "execution_count": 32,
   "id": "096f4de6",
   "metadata": {},
   "outputs": [],
   "source": [
    "all_districts = df['District'].unique()"
   ]
  },
  {
   "cell_type": "code",
   "execution_count": 33,
   "id": "ceedfd58",
   "metadata": {},
   "outputs": [],
   "source": [
    "date_range = pd.date_range('2020-04-15','2020-04-25')\n",
    "for district in all_districts:\n",
    "    a = pd.DataFrame({'Date': date_range, 'District':district, 'Confirmed': 0,'State':df[df['District']==district]['State'].unique()[0]})\n",
    "    df = pd.concat([a,df])"
   ]
  },
  {
   "cell_type": "code",
   "execution_count": 34,
   "id": "2da4fb35",
   "metadata": {},
   "outputs": [
    {
     "data": {
      "text/html": [
       "<div>\n",
       "<style scoped>\n",
       "    .dataframe tbody tr th:only-of-type {\n",
       "        vertical-align: middle;\n",
       "    }\n",
       "\n",
       "    .dataframe tbody tr th {\n",
       "        vertical-align: top;\n",
       "    }\n",
       "\n",
       "    .dataframe thead th {\n",
       "        text-align: right;\n",
       "    }\n",
       "</style>\n",
       "<table border=\"1\" class=\"dataframe\">\n",
       "  <thead>\n",
       "    <tr style=\"text-align: right;\">\n",
       "      <th></th>\n",
       "      <th>Date</th>\n",
       "      <th>District</th>\n",
       "      <th>Confirmed</th>\n",
       "      <th>State</th>\n",
       "    </tr>\n",
       "  </thead>\n",
       "  <tbody>\n",
       "    <tr>\n",
       "      <th>0</th>\n",
       "      <td>2020-04-15</td>\n",
       "      <td>ML_South West Khasi Hills</td>\n",
       "      <td>0</td>\n",
       "      <td>Meghalaya</td>\n",
       "    </tr>\n",
       "    <tr>\n",
       "      <th>1</th>\n",
       "      <td>2020-04-16</td>\n",
       "      <td>ML_South West Khasi Hills</td>\n",
       "      <td>0</td>\n",
       "      <td>Meghalaya</td>\n",
       "    </tr>\n",
       "    <tr>\n",
       "      <th>2</th>\n",
       "      <td>2020-04-17</td>\n",
       "      <td>ML_South West Khasi Hills</td>\n",
       "      <td>0</td>\n",
       "      <td>Meghalaya</td>\n",
       "    </tr>\n",
       "    <tr>\n",
       "      <th>3</th>\n",
       "      <td>2020-04-18</td>\n",
       "      <td>ML_South West Khasi Hills</td>\n",
       "      <td>0</td>\n",
       "      <td>Meghalaya</td>\n",
       "    </tr>\n",
       "    <tr>\n",
       "      <th>4</th>\n",
       "      <td>2020-04-19</td>\n",
       "      <td>ML_South West Khasi Hills</td>\n",
       "      <td>0</td>\n",
       "      <td>Meghalaya</td>\n",
       "    </tr>\n",
       "    <tr>\n",
       "      <th>...</th>\n",
       "      <td>...</td>\n",
       "      <td>...</td>\n",
       "      <td>...</td>\n",
       "      <td>...</td>\n",
       "    </tr>\n",
       "    <tr>\n",
       "      <th>307241</th>\n",
       "      <td>2021-08-14</td>\n",
       "      <td>WB_Purba Bardhaman</td>\n",
       "      <td>11</td>\n",
       "      <td>West Bengal</td>\n",
       "    </tr>\n",
       "    <tr>\n",
       "      <th>307242</th>\n",
       "      <td>2021-08-14</td>\n",
       "      <td>WB_Purba Medinipur</td>\n",
       "      <td>47</td>\n",
       "      <td>West Bengal</td>\n",
       "    </tr>\n",
       "    <tr>\n",
       "      <th>307243</th>\n",
       "      <td>2021-08-14</td>\n",
       "      <td>WB_Purulia</td>\n",
       "      <td>3</td>\n",
       "      <td>West Bengal</td>\n",
       "    </tr>\n",
       "    <tr>\n",
       "      <th>307244</th>\n",
       "      <td>2021-08-14</td>\n",
       "      <td>WB_South 24 Parganas</td>\n",
       "      <td>60</td>\n",
       "      <td>West Bengal</td>\n",
       "    </tr>\n",
       "    <tr>\n",
       "      <th>307245</th>\n",
       "      <td>2021-08-14</td>\n",
       "      <td>WB_Uttar Dinajpur</td>\n",
       "      <td>8</td>\n",
       "      <td>West Bengal</td>\n",
       "    </tr>\n",
       "  </tbody>\n",
       "</table>\n",
       "<p>295162 rows × 4 columns</p>\n",
       "</div>"
      ],
      "text/plain": [
       "             Date                   District  Confirmed        State\n",
       "0      2020-04-15  ML_South West Khasi Hills          0    Meghalaya\n",
       "1      2020-04-16  ML_South West Khasi Hills          0    Meghalaya\n",
       "2      2020-04-17  ML_South West Khasi Hills          0    Meghalaya\n",
       "3      2020-04-18  ML_South West Khasi Hills          0    Meghalaya\n",
       "4      2020-04-19  ML_South West Khasi Hills          0    Meghalaya\n",
       "...           ...                        ...        ...          ...\n",
       "307241 2021-08-14         WB_Purba Bardhaman         11  West Bengal\n",
       "307242 2021-08-14         WB_Purba Medinipur         47  West Bengal\n",
       "307243 2021-08-14                 WB_Purulia          3  West Bengal\n",
       "307244 2021-08-14       WB_South 24 Parganas         60  West Bengal\n",
       "307245 2021-08-14          WB_Uttar Dinajpur          8  West Bengal\n",
       "\n",
       "[295162 rows x 4 columns]"
      ]
     },
     "execution_count": 34,
     "metadata": {},
     "output_type": "execute_result"
    }
   ],
   "source": [
    "df"
   ]
  },
  {
   "cell_type": "code",
   "execution_count": 35,
   "id": "1c3b4f10",
   "metadata": {},
   "outputs": [],
   "source": [
    "df['Date'] = pd.to_datetime(df['Date'],format='%Y-%m-%d')"
   ]
  },
  {
   "cell_type": "code",
   "execution_count": 36,
   "id": "9a8d1efe",
   "metadata": {},
   "outputs": [
    {
     "data": {
      "text/html": [
       "<div>\n",
       "<style scoped>\n",
       "    .dataframe tbody tr th:only-of-type {\n",
       "        vertical-align: middle;\n",
       "    }\n",
       "\n",
       "    .dataframe tbody tr th {\n",
       "        vertical-align: top;\n",
       "    }\n",
       "\n",
       "    .dataframe thead th {\n",
       "        text-align: right;\n",
       "    }\n",
       "</style>\n",
       "<table border=\"1\" class=\"dataframe\">\n",
       "  <thead>\n",
       "    <tr style=\"text-align: right;\">\n",
       "      <th></th>\n",
       "      <th>Date</th>\n",
       "      <th>District</th>\n",
       "      <th>Confirmed</th>\n",
       "      <th>State</th>\n",
       "    </tr>\n",
       "  </thead>\n",
       "  <tbody>\n",
       "    <tr>\n",
       "      <th>0</th>\n",
       "      <td>2020-04-15</td>\n",
       "      <td>AP_Anantapur</td>\n",
       "      <td>0</td>\n",
       "      <td>Andhra Pradesh</td>\n",
       "    </tr>\n",
       "    <tr>\n",
       "      <th>1</th>\n",
       "      <td>2020-04-15</td>\n",
       "      <td>AP_Chittoor</td>\n",
       "      <td>0</td>\n",
       "      <td>Andhra Pradesh</td>\n",
       "    </tr>\n",
       "    <tr>\n",
       "      <th>2</th>\n",
       "      <td>2020-04-15</td>\n",
       "      <td>AP_East Godavari</td>\n",
       "      <td>0</td>\n",
       "      <td>Andhra Pradesh</td>\n",
       "    </tr>\n",
       "    <tr>\n",
       "      <th>3</th>\n",
       "      <td>2020-04-15</td>\n",
       "      <td>AP_Guntur</td>\n",
       "      <td>0</td>\n",
       "      <td>Andhra Pradesh</td>\n",
       "    </tr>\n",
       "    <tr>\n",
       "      <th>4</th>\n",
       "      <td>2020-04-15</td>\n",
       "      <td>AP_Krishna</td>\n",
       "      <td>0</td>\n",
       "      <td>Andhra Pradesh</td>\n",
       "    </tr>\n",
       "    <tr>\n",
       "      <th>...</th>\n",
       "      <td>...</td>\n",
       "      <td>...</td>\n",
       "      <td>...</td>\n",
       "      <td>...</td>\n",
       "    </tr>\n",
       "    <tr>\n",
       "      <th>295157</th>\n",
       "      <td>2021-08-14</td>\n",
       "      <td>WB_Purba Bardhaman</td>\n",
       "      <td>11</td>\n",
       "      <td>West Bengal</td>\n",
       "    </tr>\n",
       "    <tr>\n",
       "      <th>295158</th>\n",
       "      <td>2021-08-14</td>\n",
       "      <td>WB_Purba Medinipur</td>\n",
       "      <td>47</td>\n",
       "      <td>West Bengal</td>\n",
       "    </tr>\n",
       "    <tr>\n",
       "      <th>295159</th>\n",
       "      <td>2021-08-14</td>\n",
       "      <td>WB_Purulia</td>\n",
       "      <td>3</td>\n",
       "      <td>West Bengal</td>\n",
       "    </tr>\n",
       "    <tr>\n",
       "      <th>295160</th>\n",
       "      <td>2021-08-14</td>\n",
       "      <td>WB_South 24 Parganas</td>\n",
       "      <td>60</td>\n",
       "      <td>West Bengal</td>\n",
       "    </tr>\n",
       "    <tr>\n",
       "      <th>295161</th>\n",
       "      <td>2021-08-14</td>\n",
       "      <td>WB_Uttar Dinajpur</td>\n",
       "      <td>8</td>\n",
       "      <td>West Bengal</td>\n",
       "    </tr>\n",
       "  </tbody>\n",
       "</table>\n",
       "<p>295162 rows × 4 columns</p>\n",
       "</div>"
      ],
      "text/plain": [
       "             Date              District  Confirmed           State\n",
       "0      2020-04-15          AP_Anantapur          0  Andhra Pradesh\n",
       "1      2020-04-15           AP_Chittoor          0  Andhra Pradesh\n",
       "2      2020-04-15      AP_East Godavari          0  Andhra Pradesh\n",
       "3      2020-04-15             AP_Guntur          0  Andhra Pradesh\n",
       "4      2020-04-15            AP_Krishna          0  Andhra Pradesh\n",
       "...           ...                   ...        ...             ...\n",
       "295157 2021-08-14    WB_Purba Bardhaman         11     West Bengal\n",
       "295158 2021-08-14    WB_Purba Medinipur         47     West Bengal\n",
       "295159 2021-08-14            WB_Purulia          3     West Bengal\n",
       "295160 2021-08-14  WB_South 24 Parganas         60     West Bengal\n",
       "295161 2021-08-14     WB_Uttar Dinajpur          8     West Bengal\n",
       "\n",
       "[295162 rows x 4 columns]"
      ]
     },
     "execution_count": 36,
     "metadata": {},
     "output_type": "execute_result"
    }
   ],
   "source": [
    "df.sort_values(['Date','District'],ignore_index=True, inplace=True)\n",
    "df"
   ]
  },
  {
   "cell_type": "markdown",
   "id": "6aa0414f",
   "metadata": {},
   "source": [
    "### Findig Weekly cases\n",
    "Resample function divides the dataset into weeks starting from sunday and ending at saturday.\n",
    "To calculate df_week we take sum of every week for every district in database"
   ]
  },
  {
   "cell_type": "code",
   "execution_count": 37,
   "id": "d1d0baae",
   "metadata": {},
   "outputs": [],
   "source": [
    "df_week = df.set_index('Date').groupby('District').resample('w-sat').agg({'Confirmed':'sum','State':'first'}).reset_index().drop('Date',axis = 1)"
   ]
  },
  {
   "cell_type": "markdown",
   "id": "0b8c1416",
   "metadata": {},
   "source": [
    "###### df_week we calculated above does not have column which tells the week number, so creating one"
   ]
  },
  {
   "cell_type": "code",
   "execution_count": 38,
   "id": "3586704a",
   "metadata": {},
   "outputs": [],
   "source": [
    "df_week['Week'] = 0\n",
    "for key, value in df_week.groupby('District'):\n",
    "    index = value.index\n",
    "    df_week.loc[index,'Week'] = [i for i in range(1,len(index)+1)]"
   ]
  },
  {
   "cell_type": "code",
   "execution_count": 39,
   "id": "8850dcf6",
   "metadata": {},
   "outputs": [
    {
     "data": {
      "text/html": [
       "<div>\n",
       "<style scoped>\n",
       "    .dataframe tbody tr th:only-of-type {\n",
       "        vertical-align: middle;\n",
       "    }\n",
       "\n",
       "    .dataframe tbody tr th {\n",
       "        vertical-align: top;\n",
       "    }\n",
       "\n",
       "    .dataframe thead th {\n",
       "        text-align: right;\n",
       "    }\n",
       "</style>\n",
       "<table border=\"1\" class=\"dataframe\">\n",
       "  <thead>\n",
       "    <tr style=\"text-align: right;\">\n",
       "      <th></th>\n",
       "      <th>District</th>\n",
       "      <th>Confirmed</th>\n",
       "      <th>State</th>\n",
       "      <th>Week</th>\n",
       "    </tr>\n",
       "  </thead>\n",
       "  <tbody>\n",
       "    <tr>\n",
       "      <th>0</th>\n",
       "      <td>AP_Anantapur</td>\n",
       "      <td>0</td>\n",
       "      <td>Andhra Pradesh</td>\n",
       "      <td>1</td>\n",
       "    </tr>\n",
       "    <tr>\n",
       "      <th>1</th>\n",
       "      <td>AP_Anantapur</td>\n",
       "      <td>0</td>\n",
       "      <td>Andhra Pradesh</td>\n",
       "      <td>2</td>\n",
       "    </tr>\n",
       "    <tr>\n",
       "      <th>2</th>\n",
       "      <td>AP_Anantapur</td>\n",
       "      <td>71</td>\n",
       "      <td>Andhra Pradesh</td>\n",
       "      <td>3</td>\n",
       "    </tr>\n",
       "    <tr>\n",
       "      <th>3</th>\n",
       "      <td>AP_Anantapur</td>\n",
       "      <td>31</td>\n",
       "      <td>Andhra Pradesh</td>\n",
       "      <td>4</td>\n",
       "    </tr>\n",
       "    <tr>\n",
       "      <th>4</th>\n",
       "      <td>AP_Anantapur</td>\n",
       "      <td>20</td>\n",
       "      <td>Andhra Pradesh</td>\n",
       "      <td>5</td>\n",
       "    </tr>\n",
       "    <tr>\n",
       "      <th>...</th>\n",
       "      <td>...</td>\n",
       "      <td>...</td>\n",
       "      <td>...</td>\n",
       "      <td>...</td>\n",
       "    </tr>\n",
       "    <tr>\n",
       "      <th>43115</th>\n",
       "      <td>WB_Uttar Dinajpur</td>\n",
       "      <td>65</td>\n",
       "      <td>West Bengal</td>\n",
       "      <td>66</td>\n",
       "    </tr>\n",
       "    <tr>\n",
       "      <th>43116</th>\n",
       "      <td>WB_Uttar Dinajpur</td>\n",
       "      <td>66</td>\n",
       "      <td>West Bengal</td>\n",
       "      <td>67</td>\n",
       "    </tr>\n",
       "    <tr>\n",
       "      <th>43117</th>\n",
       "      <td>WB_Uttar Dinajpur</td>\n",
       "      <td>45</td>\n",
       "      <td>West Bengal</td>\n",
       "      <td>68</td>\n",
       "    </tr>\n",
       "    <tr>\n",
       "      <th>43118</th>\n",
       "      <td>WB_Uttar Dinajpur</td>\n",
       "      <td>66</td>\n",
       "      <td>West Bengal</td>\n",
       "      <td>69</td>\n",
       "    </tr>\n",
       "    <tr>\n",
       "      <th>43119</th>\n",
       "      <td>WB_Uttar Dinajpur</td>\n",
       "      <td>56</td>\n",
       "      <td>West Bengal</td>\n",
       "      <td>70</td>\n",
       "    </tr>\n",
       "  </tbody>\n",
       "</table>\n",
       "<p>43120 rows × 4 columns</p>\n",
       "</div>"
      ],
      "text/plain": [
       "                District  Confirmed           State  Week\n",
       "0           AP_Anantapur          0  Andhra Pradesh     1\n",
       "1           AP_Anantapur          0  Andhra Pradesh     2\n",
       "2           AP_Anantapur         71  Andhra Pradesh     3\n",
       "3           AP_Anantapur         31  Andhra Pradesh     4\n",
       "4           AP_Anantapur         20  Andhra Pradesh     5\n",
       "...                  ...        ...             ...   ...\n",
       "43115  WB_Uttar Dinajpur         65     West Bengal    66\n",
       "43116  WB_Uttar Dinajpur         66     West Bengal    67\n",
       "43117  WB_Uttar Dinajpur         45     West Bengal    68\n",
       "43118  WB_Uttar Dinajpur         66     West Bengal    69\n",
       "43119  WB_Uttar Dinajpur         56     West Bengal    70\n",
       "\n",
       "[43120 rows x 4 columns]"
      ]
     },
     "execution_count": 39,
     "metadata": {},
     "output_type": "execute_result"
    }
   ],
   "source": [
    "df_week"
   ]
  },
  {
   "cell_type": "markdown",
   "id": "c50d42e6",
   "metadata": {},
   "source": [
    "###### this file is created because it will be used in coming questions"
   ]
  },
  {
   "cell_type": "code",
   "execution_count": 208,
   "id": "614fbb70",
   "metadata": {},
   "outputs": [],
   "source": [
    "df_week.to_csv('weekly-cases.csv',index=False)"
   ]
  },
  {
   "cell_type": "markdown",
   "id": "ba9e1d5e",
   "metadata": {},
   "source": [
    "###### creating output1 csv file"
   ]
  },
  {
   "cell_type": "code",
   "execution_count": 166,
   "id": "9b9e78fe",
   "metadata": {},
   "outputs": [],
   "source": [
    "df_week[['District','Confirmed','Week']].to_csv(\"cases-week.csv\", index = False, header=['District Id','Cases','Week'])"
   ]
  },
  {
   "cell_type": "markdown",
   "id": "4744d398",
   "metadata": {},
   "source": [
    "### Finding Monthly cases"
   ]
  },
  {
   "cell_type": "markdown",
   "id": "ad8968f0",
   "metadata": {},
   "source": [
    "###### Since month starts from 15 and ends at 14, we have to define length of each month manually, this part of program is quite time taking because it iterate over every district in database and calculate total cases of that district for each month"
   ]
  },
  {
   "cell_type": "code",
   "execution_count": 40,
   "id": "95ce639b",
   "metadata": {},
   "outputs": [],
   "source": [
    "month_days = [30, 31, 30, 31, 31, 30, 31, 30, 31, 31, 28, 31, 30, 31, 30, 31, 31]\n",
    "df_month = pd.DataFrame(columns=['State','District','Month','Cases'])\n",
    "for key, value in df.groupby(['State','District']):\n",
    "    month_count = 1\n",
    "    indexes = iter(value.index)\n",
    "    splitted_index = [list(islice(indexes, elem)) for elem in month_days]\n",
    "    for i in splitted_index:\n",
    "        s = df.loc[i, 'Confirmed'].sum()\n",
    "        df_month = df_month.append({'State':key[0],'District': key[1], 'Month': month_count, 'Cases':s}, ignore_index=True)\n",
    "        month_count+=1"
   ]
  },
  {
   "cell_type": "markdown",
   "id": "f9c5e6e9",
   "metadata": {},
   "source": [
    "###### this file is created because it will be used in coming questions"
   ]
  },
  {
   "cell_type": "code",
   "execution_count": 41,
   "id": "8cdc2c1d",
   "metadata": {},
   "outputs": [],
   "source": [
    "df_month.to_csv(\"monthly-cases.csv\",index = False)"
   ]
  },
  {
   "cell_type": "markdown",
   "id": "c2ffcea7",
   "metadata": {},
   "source": [
    "###### creating output2 csv file"
   ]
  },
  {
   "cell_type": "code",
   "execution_count": 42,
   "id": "1b662ff3",
   "metadata": {},
   "outputs": [],
   "source": [
    "df_month[['District','Month','Cases']].to_csv(\"cases-month.csv\", index = False, header=['District Id','Month','Cases'])"
   ]
  },
  {
   "cell_type": "markdown",
   "id": "c3b9c6d4",
   "metadata": {},
   "source": [
    "### Finding overall cases"
   ]
  },
  {
   "cell_type": "code",
   "execution_count": 43,
   "id": "5c4f5eca",
   "metadata": {},
   "outputs": [],
   "source": [
    "df_overall = df.groupby('District').sum().reset_index()"
   ]
  },
  {
   "cell_type": "markdown",
   "id": "f59d3cf2",
   "metadata": {},
   "source": [
    "###### creating output3 csv file"
   ]
  },
  {
   "cell_type": "code",
   "execution_count": 45,
   "id": "d9c6dba7",
   "metadata": {},
   "outputs": [],
   "source": [
    "df_overall.to_csv(\"cases-overall.csv\", index = False, header=['District Id','Cases'])"
   ]
  }
 ],
 "metadata": {
  "kernelspec": {
   "display_name": "Python 3",
   "language": "python",
   "name": "python3"
  },
  "language_info": {
   "codemirror_mode": {
    "name": "ipython",
    "version": 3
   },
   "file_extension": ".py",
   "mimetype": "text/x-python",
   "name": "python",
   "nbconvert_exporter": "python",
   "pygments_lexer": "ipython3",
   "version": "3.8.8"
  }
 },
 "nbformat": 4,
 "nbformat_minor": 5
}
